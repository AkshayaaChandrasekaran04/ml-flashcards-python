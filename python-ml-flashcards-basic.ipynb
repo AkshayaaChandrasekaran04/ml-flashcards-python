{
 "cells": [
  {
   "cell_type": "code",
   "execution_count": 168,
   "metadata": {
    "collapsed": true
   },
   "outputs": [],
   "source": [
    "import requests\n",
    "import tweepy\n",
    "import re\n",
    "import os\n",
    "\n",
    "# create a file twitter_keys.py and add the tokens/keys below as variables in the file\n",
    "from twitter_keys import consumer_key, consumer_secret"
   ]
  },
  {
   "cell_type": "code",
   "execution_count": 107,
   "metadata": {
    "collapsed": true
   },
   "outputs": [],
   "source": [
    "# Create the OAuthHandler\n",
    "auth = tweepy.OAuthHandler(consumer_key=consumer_key,\n",
    "                           consumer_secret=consumer_secret)\n",
    "# Construct the API instance\n",
    "api = tweepy.API(auth)\n",
    "\n",
    "# query parameter excludes the intentional photo to dirty the data\n",
    "params = {'q': '-\"are%20-being%20-made\"%20-\"your%20-data%20-dirty\"%20%23machinelearningflashcards',\n",
    "          'from': 'chrisalbon',\n",
    "          'since': '2017-04-01', }"
   ]
  },
  {
   "cell_type": "code",
   "execution_count": 164,
   "metadata": {
    "collapsed": true
   },
   "outputs": [],
   "source": [
    "# query the API\n",
    "ml_flashcards_json = api.search(**params)"
   ]
  },
  {
   "cell_type": "code",
   "execution_count": 165,
   "metadata": {
    "collapsed": true
   },
   "outputs": [],
   "source": [
    "# Create two lists: A list of image URLs and Titles\n",
    "media_urls = []\n",
    "titles = []\n",
    "for i in range(len(ml_flashcards_json)):\n",
    "    txt = ml_flashcards_json[i]\n",
    "    json = txt._json\n",
    "    title = re.sub(\"#\\S*\", \"\", str(json['text'])) # removes hashtag\n",
    "    title = re.sub(\"https\\S*\", \"\", title) # removes url\n",
    "    title = str(title.strip()) # strips spacing away\n",
    "    media_url = json['entities']['media'][0]['media_url']\n",
    "    media_urls.append(media_url)\n",
    "    titles.append(title)"
   ]
  },
  {
   "cell_type": "code",
   "execution_count": 179,
   "metadata": {
    "collapsed": true
   },
   "outputs": [],
   "source": [
    "# output the images to the flashcards directory\n",
    "current_dirctory = os.getcwd()\n",
    "os.chdir(current_dirctory + \"/flashcards\")\n",
    "for i in zip(media_urls, titles):\n",
    "    img = requests.get(i[0])\n",
    "    f = open(str(i[1]) + \".jpg\", mode='wb')\n",
    "    f.write(img.content)\n",
    "    f.close()"
   ]
  }
 ],
 "metadata": {
  "kernelspec": {
   "display_name": "Python 3",
   "language": "python",
   "name": "python3"
  },
  "language_info": {
   "codemirror_mode": {
    "name": "ipython",
    "version": 3
   },
   "file_extension": ".py",
   "mimetype": "text/x-python",
   "name": "python",
   "nbconvert_exporter": "python",
   "pygments_lexer": "ipython3",
   "version": "3.6.1"
  }
 },
 "nbformat": 4,
 "nbformat_minor": 2
}
